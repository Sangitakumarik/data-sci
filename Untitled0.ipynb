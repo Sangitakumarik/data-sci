{
  "nbformat": 4,
  "nbformat_minor": 0,
  "metadata": {
    "colab": {
      "provenance": [],
      "toc_visible": true,
      "authorship_tag": "ABX9TyNfwghE2VlNTop8w7T70PMB",
      "include_colab_link": true
    },
    "kernelspec": {
      "name": "python3",
      "display_name": "Python 3"
    },
    "language_info": {
      "name": "python"
    }
  },
  "cells": [
    {
      "cell_type": "markdown",
      "metadata": {
        "id": "view-in-github",
        "colab_type": "text"
      },
      "source": [
        "<a href=\"https://colab.research.google.com/github/Sangitakumarik/data-sci/blob/main/Untitled0.ipynb\" target=\"_parent\"><img src=\"https://colab.research.google.com/assets/colab-badge.svg\" alt=\"Open In Colab\"/></a>"
      ]
    },
    {
      "cell_type": "markdown",
      "source": [
        "**Some Basic Questions of Python**"
      ],
      "metadata": {
        "id": "35eBxDdYZb3I"
      }
    },
    {
      "cell_type": "markdown",
      "source": [
        "# New Section"
      ],
      "metadata": {
        "id": "YTXkbhvc3sp1"
      }
    },
    {
      "cell_type": "markdown",
      "source": [
        "# New Section"
      ],
      "metadata": {
        "id": "s05NO0493tHT"
      }
    },
    {
      "cell_type": "code",
      "source": [],
      "metadata": {
        "id": "0lpfdI-zlqOR"
      },
      "execution_count": null,
      "outputs": []
    },
    {
      "cell_type": "code",
      "source": [
        "a=6\n",
        "b=8\n",
        "c=8\n",
        "R=a+b+c\n",
        "print(R)\n"
      ],
      "metadata": {
        "colab": {
          "base_uri": "https://localhost:8080/"
        },
        "id": "lWk4QAliZx6s",
        "outputId": "01986696-cb4e-4ea4-925b-ccc913e96db1"
      },
      "execution_count": null,
      "outputs": [
        {
          "output_type": "stream",
          "name": "stdout",
          "text": [
            "22\n"
          ]
        }
      ]
    },
    {
      "cell_type": "markdown",
      "source": [],
      "metadata": {
        "id": "zXSW7CqrZbWG"
      }
    },
    {
      "cell_type": "markdown",
      "source": [],
      "metadata": {
        "id": "Av7eO2iFdQqd"
      }
    },
    {
      "cell_type": "code",
      "source": [
        "print(\"Sangita\")"
      ],
      "metadata": {
        "colab": {
          "base_uri": "https://localhost:8080/"
        },
        "id": "r10sRl2abeDm",
        "outputId": "ae53698e-56b1-4bec-c3fd-1c6b4899c5e1"
      },
      "execution_count": null,
      "outputs": [
        {
          "output_type": "stream",
          "name": "stdout",
          "text": [
            "Sangita\n"
          ]
        }
      ]
    },
    {
      "cell_type": "code",
      "source": [
        "n=int(input(\"Enter a no : \"))\n",
        "sum=0\n",
        "for i in range (1,n+1):\n",
        "    sum=sum+i\n",
        "print(sum)\n",
        "\n"
      ],
      "metadata": {
        "colab": {
          "base_uri": "https://localhost:8080/"
        },
        "id": "m9yRhVuBc74P",
        "outputId": "bb243df3-dbd0-4b77-cf73-a7ca586b46bb"
      },
      "execution_count": null,
      "outputs": [
        {
          "output_type": "stream",
          "name": "stdout",
          "text": [
            "Enter a no : 10\n",
            "55\n"
          ]
        }
      ]
    },
    {
      "cell_type": "code",
      "source": [
        "n=int(input(\"Enter a no : \"))\n",
        "f=1\n",
        "for i in range(1,n+1):\n",
        "  f=f*i\n",
        "print(\"fectorial is :\",f)"
      ],
      "metadata": {
        "colab": {
          "base_uri": "https://localhost:8080/"
        },
        "id": "EwU8rO-_hu5c",
        "outputId": "c29d0bf0-aad5-43d4-9381-649f0d3cc95b"
      },
      "execution_count": null,
      "outputs": [
        {
          "output_type": "stream",
          "name": "stdout",
          "text": [
            "Enter a no : 5\n",
            "fectorial is : 120\n"
          ]
        }
      ]
    },
    {
      "cell_type": "code",
      "source": [
        "n=int(input(\"Enter a no : \"))\n",
        "if(n % 2)==0:\n",
        "    print(\"even\")\n",
        "else:\n",
        "    print(\"Odd\")\n"
      ],
      "metadata": {
        "colab": {
          "base_uri": "https://localhost:8080/"
        },
        "id": "h4So3VSUioOQ",
        "outputId": "cc701bcc-359f-446f-e07e-332e2f9ef0ff"
      },
      "execution_count": null,
      "outputs": [
        {
          "output_type": "stream",
          "name": "stdout",
          "text": [
            "Enter a no : 7\n",
            "Odd\n"
          ]
        }
      ]
    },
    {
      "cell_type": "markdown",
      "source": [],
      "metadata": {
        "id": "qQ0JBo5QmCmC"
      }
    },
    {
      "cell_type": "markdown",
      "source": [
        "Day 1 Python class (Basic data Types in python)\n"
      ],
      "metadata": {
        "id": "hKhrHkn0mGpe"
      }
    },
    {
      "cell_type": "code",
      "source": [],
      "metadata": {
        "id": "MBBA_mNnmkHX"
      },
      "execution_count": null,
      "outputs": []
    },
    {
      "cell_type": "code",
      "source": [
        "#int\n",
        "a=2\n",
        "print(type(a))"
      ],
      "metadata": {
        "colab": {
          "base_uri": "https://localhost:8080/"
        },
        "id": "YwhiOhPzmPTP",
        "outputId": "5f837ba0-d91e-40db-e394-f560f9035ee2"
      },
      "execution_count": 5,
      "outputs": [
        {
          "output_type": "stream",
          "name": "stdout",
          "text": [
            "<class 'int'>\n"
          ]
        }
      ]
    },
    {
      "cell_type": "markdown",
      "source": [],
      "metadata": {
        "id": "Gsv11AXKmDTN"
      }
    },
    {
      "cell_type": "code",
      "source": [
        "#Float\n",
        "a=2.3\n",
        "print(type(a))\n"
      ],
      "metadata": {
        "colab": {
          "base_uri": "https://localhost:8080/"
        },
        "id": "P7Sf5TGWmrb7",
        "outputId": "828ed535-382d-4eab-9808-b02b76243eb3"
      },
      "execution_count": 6,
      "outputs": [
        {
          "output_type": "stream",
          "name": "stdout",
          "text": [
            "<class 'float'>\n"
          ]
        }
      ]
    },
    {
      "cell_type": "code",
      "source": [
        "#Charecter\n",
        "a=\"Sangita\"\n",
        "print(type(a))"
      ],
      "metadata": {
        "colab": {
          "base_uri": "https://localhost:8080/"
        },
        "id": "bSjNy_AVnBC7",
        "outputId": "ad118876-a248-4aca-d0b0-2963c1620074"
      },
      "execution_count": 15,
      "outputs": [
        {
          "output_type": "stream",
          "name": "stdout",
          "text": [
            "<class 'str'>\n"
          ]
        }
      ]
    },
    {
      "cell_type": "code",
      "source": [
        "#Sting Types\n",
        "a=\"sangita\"\n",
        "b='kumari'\n",
        "e=''' My name is : \n",
        "sangita'''\n",
        "print(e)\n",
        "print(a)\n",
        "print(b)"
      ],
      "metadata": {
        "colab": {
          "base_uri": "https://localhost:8080/"
        },
        "id": "pjUoTM0woQq-",
        "outputId": "8fd49dc3-0fdb-4ab0-aca7-ab1c1bce12a8"
      },
      "execution_count": 11,
      "outputs": [
        {
          "output_type": "stream",
          "name": "stdout",
          "text": [
            " My name is : \n",
            "sangita\n",
            "sangita\n",
            "kumari\n"
          ]
        }
      ]
    },
    {
      "cell_type": "code",
      "source": [
        "#boolean\n",
        "a=True\n",
        "print(type(a))\n",
        "print(a)"
      ],
      "metadata": {
        "colab": {
          "base_uri": "https://localhost:8080/"
        },
        "id": "TlV_DVluofzD",
        "outputId": "96719b96-dc9d-4dd5-865c-c00f895013fd"
      },
      "execution_count": 13,
      "outputs": [
        {
          "output_type": "stream",
          "name": "stdout",
          "text": [
            "<class 'bool'>\n",
            "True\n"
          ]
        }
      ]
    },
    {
      "cell_type": "code",
      "source": [
        "#complex\n",
        "ab=2+3j\n",
        "print(type(ab))"
      ],
      "metadata": {
        "colab": {
          "base_uri": "https://localhost:8080/"
        },
        "id": "n-cv2Z_YpETN",
        "outputId": "a953ad7b-75fa-48bd-88fb-d55ac70debbd"
      },
      "execution_count": 14,
      "outputs": [
        {
          "output_type": "stream",
          "name": "stdout",
          "text": [
            "<class 'complex'>\n"
          ]
        }
      ]
    },
    {
      "cell_type": "code",
      "source": [
        "list1=[1,2,3,4,5,'sangita',4.5]\n",
        "print(type(list1))"
      ],
      "metadata": {
        "colab": {
          "base_uri": "https://localhost:8080/"
        },
        "id": "dhQvZblIpUDA",
        "outputId": "4dcf1a86-5f1c-4c32-b9ce-f54a12848f46"
      },
      "execution_count": 18,
      "outputs": [
        {
          "output_type": "stream",
          "name": "stdout",
          "text": [
            "<class 'list'>\n"
          ]
        }
      ]
    },
    {
      "cell_type": "code",
      "source": [
        "list1=[1,23,4,4] #1D array\n",
        "list2=[2,3,4,[3,45]]#2D array\n",
        "list3=[[[1,2],[3,4]]]#3D array\n",
        "print(list1,list2,list3)"
      ],
      "metadata": {
        "colab": {
          "base_uri": "https://localhost:8080/"
        },
        "id": "j_j3_0MXqBVj",
        "outputId": "238340c2-00ea-4bdf-c84c-9f1e81d6139a"
      },
      "execution_count": 23,
      "outputs": [
        {
          "output_type": "stream",
          "name": "stdout",
          "text": [
            "[1, 23, 4, 4] [2, 3, 4, [3, 45]] [[[1, 2], [3, 4]]]\n"
          ]
        }
      ]
    },
    {
      "cell_type": "code",
      "source": [
        "list2=[1,2,3,4,5,6,7,8,9]\n",
        "list2[3] #index is 2 \n",
        "list2[-1] #Reverse index \n",
        "list2.append(23)\n",
        "list2.insert(1,10)"
      ],
      "metadata": {
        "id": "M8ZGQWcPq0bx"
      },
      "execution_count": 38,
      "outputs": []
    },
    {
      "cell_type": "code",
      "source": [
        "list2.append(24)"
      ],
      "metadata": {
        "id": "TfvuxBJSsHH6"
      },
      "execution_count": 31,
      "outputs": []
    },
    {
      "cell_type": "code",
      "source": [
        "print(list2)"
      ],
      "metadata": {
        "colab": {
          "base_uri": "https://localhost:8080/"
        },
        "id": "NDyY0imYsteR",
        "outputId": "7a676443-386b-43a4-ec6b-c0e35629f2cb"
      },
      "execution_count": 32,
      "outputs": [
        {
          "output_type": "stream",
          "name": "stdout",
          "text": [
            "[1, 2, 3, 4, 5, 6, 7, 8, 9, 23, 24]\n"
          ]
        }
      ]
    },
    {
      "cell_type": "code",
      "source": [
        "print(list2)"
      ],
      "metadata": {
        "colab": {
          "base_uri": "https://localhost:8080/"
        },
        "id": "sid2j8W-sxbU",
        "outputId": "d45dd626-9095-4d8d-e002-bef3077e062c"
      },
      "execution_count": 39,
      "outputs": [
        {
          "output_type": "stream",
          "name": "stdout",
          "text": [
            "[1, 10, 2, 3, 4, 5, 6, 7, 8, 9, 23]\n"
          ]
        }
      ]
    },
    {
      "cell_type": "code",
      "source": [
        "\n",
        "print(list2[0:5])"
      ],
      "metadata": {
        "colab": {
          "base_uri": "https://localhost:8080/"
        },
        "id": "4MijxweytGxs",
        "outputId": "5fcc0b4d-73ca-4623-f2b3-9adf6116709e"
      },
      "execution_count": 45,
      "outputs": [
        {
          "output_type": "stream",
          "name": "stdout",
          "text": [
            "[1, 10, 2, 3, 4]\n"
          ]
        }
      ]
    },
    {
      "cell_type": "code",
      "source": [
        "print(list2[0:7:2])"
      ],
      "metadata": {
        "colab": {
          "base_uri": "https://localhost:8080/"
        },
        "id": "Vnvc1NGftyLt",
        "outputId": "eb77a8fa-10cd-4c2a-873a-19b5749e9aa3"
      },
      "execution_count": 46,
      "outputs": [
        {
          "output_type": "stream",
          "name": "stdout",
          "text": [
            "[1, 2, 4, 6]\n"
          ]
        }
      ]
    },
    {
      "cell_type": "code",
      "source": [
        "#operation\n",
        "l1=[2,2,3]\n",
        "l2=[5,6,7]\n",
        "print(l1*3)#Repear 3 times\n",
        "print(l1*2)#Repeat 2 times\n",
        "\n",
        "\n"
      ],
      "metadata": {
        "colab": {
          "base_uri": "https://localhost:8080/"
        },
        "id": "oDud0IOfuScc",
        "outputId": "9aaccae6-f048-4048-abdd-24691d0b0d9e"
      },
      "execution_count": 49,
      "outputs": [
        {
          "output_type": "stream",
          "name": "stdout",
          "text": [
            "[2, 2, 3, 2, 2, 3, 2, 2, 3]\n",
            "[2, 2, 3, 2, 2, 3]\n"
          ]
        }
      ]
    },
    {
      "cell_type": "code",
      "source": [
        "#Functions\n",
        "l1=[1,2,3,45,]\n",
        "l=len(l1)\n",
        "b=max(l1)\n",
        "m=min(l1)\n",
        "s=sorted(l1)\n",
        "print(l)\n",
        "print(b)\n",
        "print(m)\n",
        "print(s)\n"
      ],
      "metadata": {
        "colab": {
          "base_uri": "https://localhost:8080/"
        },
        "id": "VyI3r4FpusXn",
        "outputId": "c693bfe6-0c21-4bce-c2a1-534eaafa7309"
      },
      "execution_count": 56,
      "outputs": [
        {
          "output_type": "stream",
          "name": "stdout",
          "text": [
            "4\n",
            "45\n",
            "1\n",
            "[1, 2, 3, 45]\n"
          ]
        }
      ]
    },
    {
      "cell_type": "code",
      "source": [
        "#loop\n",
        "l1 = []\n",
        "for i in range (1,10):\n",
        "  l1.append(i)\n",
        "print(l1)"
      ],
      "metadata": {
        "colab": {
          "base_uri": "https://localhost:8080/"
        },
        "id": "7_6R9N8LvTRq",
        "outputId": "6a20b44a-1cf0-47c1-8de3-095e97c01ddd"
      },
      "execution_count": 58,
      "outputs": [
        {
          "output_type": "stream",
          "name": "stdout",
          "text": [
            "[1, 2, 3, 4, 5, 6, 7, 8, 9]\n"
          ]
        }
      ]
    },
    {
      "cell_type": "code",
      "source": [
        "#List Comprehenssion (To make Low Time complexity)\n",
        "l = [i for i in range(1,10)]\n",
        "print(l)"
      ],
      "metadata": {
        "colab": {
          "base_uri": "https://localhost:8080/"
        },
        "id": "Ht84IaEUwm2o",
        "outputId": "dfbdcd89-69e5-43a6-cd91-d8df72f3cb75"
      },
      "execution_count": 60,
      "outputs": [
        {
          "output_type": "stream",
          "name": "stdout",
          "text": [
            "[1, 2, 3, 4, 5, 6, 7, 8, 9]\n"
          ]
        }
      ]
    },
    {
      "cell_type": "code",
      "source": [
        "#List Comprehenssion (To make Low Time complexity)\n",
        "l = [i for i in range(1,10) if i%2==0]\n",
        "print(l)"
      ],
      "metadata": {
        "colab": {
          "base_uri": "https://localhost:8080/"
        },
        "id": "r9YQ01XFxCGd",
        "outputId": "600333c1-384c-480b-aa6b-a185ca9ad565"
      },
      "execution_count": 64,
      "outputs": [
        {
          "output_type": "stream",
          "name": "stdout",
          "text": [
            "[2, 4, 6, 8]\n"
          ]
        }
      ]
    },
    {
      "cell_type": "code",
      "source": [
        "l=[3,4,5]\n",
        "l1=[i*2 for i in l]\n",
        "print(l1)"
      ],
      "metadata": {
        "colab": {
          "base_uri": "https://localhost:8080/"
        },
        "id": "UdrJ8un7zDEu",
        "outputId": "47d0898f-e7bf-489c-9a6c-28e8a714c3cb"
      },
      "execution_count": 66,
      "outputs": [
        {
          "output_type": "stream",
          "name": "stdout",
          "text": [
            "[6, 8, 10]\n"
          ]
        }
      ]
    },
    {
      "cell_type": "code",
      "source": [
        "l=[1,51]\n",
        "l=[i for i in range (1,51) if i%5==0 ]\n",
        "print(l)"
      ],
      "metadata": {
        "colab": {
          "base_uri": "https://localhost:8080/"
        },
        "id": "QRPWDkrx0CAV",
        "outputId": "c4e4732f-9ba8-4ede-a1a0-b520a7b79e99"
      },
      "execution_count": 67,
      "outputs": [
        {
          "output_type": "stream",
          "name": "stdout",
          "text": [
            "[5, 10, 15, 20, 25, 30, 35, 40, 45, 50]\n"
          ]
        }
      ]
    },
    {
      "cell_type": "code",
      "source": [
        "l=[1,2,3,4,5]\n",
        "l=[i*i for i in l ]\n",
        "print(l)"
      ],
      "metadata": {
        "colab": {
          "base_uri": "https://localhost:8080/"
        },
        "id": "xAxHyztU04aB",
        "outputId": "4a15b1d7-c26e-464e-f6dd-ece4f8797b1d"
      },
      "execution_count": 72,
      "outputs": [
        {
          "output_type": "stream",
          "name": "stdout",
          "text": [
            "[1, 4, 9, 16, 25]\n"
          ]
        }
      ]
    },
    {
      "cell_type": "code",
      "source": [],
      "metadata": {
        "id": "Gmrew5tu2TSd"
      },
      "execution_count": null,
      "outputs": []
    }
  ]
}