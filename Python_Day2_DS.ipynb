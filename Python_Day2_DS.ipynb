{
  "nbformat": 4,
  "nbformat_minor": 0,
  "metadata": {
    "colab": {
      "provenance": [],
      "authorship_tag": "ABX9TyPuqYrLRVDX/3Lt7EroQFKO",
      "include_colab_link": true
    },
    "kernelspec": {
      "name": "python3",
      "display_name": "Python 3"
    },
    "language_info": {
      "name": "python"
    }
  },
  "cells": [
    {
      "cell_type": "markdown",
      "metadata": {
        "id": "view-in-github",
        "colab_type": "text"
      },
      "source": [
        "<a href=\"https://colab.research.google.com/github/Sangitakumarik/data-sci/blob/main/Python_Day2_DS.ipynb\" target=\"_parent\"><img src=\"https://colab.research.google.com/assets/colab-badge.svg\" alt=\"Open In Colab\"/></a>"
      ]
    },
    {
      "cell_type": "markdown",
      "source": [],
      "metadata": {
        "id": "q1jgNdT47sc2"
      }
    },
    {
      "cell_type": "code",
      "source": [
        "#Tuple\n",
        "#edditing not allowed\n",
        "#adding item are not allowed\n",
        "\n",
        "t=(\"Sangita\")\n",
        "print(t)\n"
      ],
      "metadata": {
        "colab": {
          "base_uri": "https://localhost:8080/"
        },
        "id": "vUh5fTiA8hHf",
        "outputId": "36d1a63f-60aa-42fd-9d6b-fe46abf6d524"
      },
      "execution_count": null,
      "outputs": [
        {
          "output_type": "stream",
          "name": "stdout",
          "text": [
            "Sangita\n"
          ]
        }
      ]
    },
    {
      "cell_type": "code",
      "source": [
        "t3=(1,2,4,567,88,9,90)\n",
        "len(t3)\n",
        "min(t3)\n",
        "sorted(t3, reverse = True)\n",
        "\n"
      ],
      "metadata": {
        "colab": {
          "base_uri": "https://localhost:8080/"
        },
        "id": "TAmkXSDi8xOt",
        "outputId": "f91b1557-751f-4709-97ec-837a83755690"
      },
      "execution_count": null,
      "outputs": [
        {
          "output_type": "stream",
          "name": "stdout",
          "text": [
            "(1, 2, 4, 567, 88, 9, 90)\n"
          ]
        }
      ]
    },
    {
      "cell_type": "code",
      "source": [
        "t1=(91,2,34,5)\n",
        "t3=(1,2,4,55,6,33,22)\n",
        "print(t1+t3)\n",
        "t1.count(5)\n",
        "\n"
      ],
      "metadata": {
        "colab": {
          "base_uri": "https://localhost:8080/"
        },
        "id": "cImmY2hI93i9",
        "outputId": "f04714f9-0cbc-4e2b-9ead-b502d84bb734"
      },
      "execution_count": null,
      "outputs": [
        {
          "output_type": "stream",
          "name": "stdout",
          "text": [
            "(91, 2, 34, 5, 1, 2, 4, 55, 6, 33, 22)\n"
          ]
        },
        {
          "output_type": "execute_result",
          "data": {
            "text/plain": [
              "1"
            ]
          },
          "metadata": {},
          "execution_count": 16
        }
      ]
    },
    {
      "cell_type": "code",
      "source": [
        "t1=(91,2,34,5)\n",
        "t1.index(2)"
      ],
      "metadata": {
        "colab": {
          "base_uri": "https://localhost:8080/"
        },
        "id": "3D4hcOra-QDS",
        "outputId": "163efb21-ca4c-433a-88bb-cc1207655491"
      },
      "execution_count": null,
      "outputs": [
        {
          "output_type": "execute_result",
          "data": {
            "text/plain": [
              "1"
            ]
          },
          "metadata": {},
          "execution_count": 17
        }
      ]
    },
    {
      "cell_type": "code",
      "source": [
        "#Dif b/w tuple and list\n",
        "\n",
        "#1.Syntax\n",
        "#2.Mutable\n",
        "#3.Faster \n",
        "#4.Takes less memory \n",
        "\n"
      ],
      "metadata": {
        "id": "zh7R2VDq_gPx"
      },
      "execution_count": null,
      "outputs": []
    },
    {
      "cell_type": "code",
      "source": [
        "#Unpacking\n"
      ],
      "metadata": {
        "id": "Pc3l7RzX_-Um"
      },
      "execution_count": null,
      "outputs": []
    },
    {
      "cell_type": "code",
      "source": [
        "#sets\n",
        "\n",
        "#1.Unorderd\n",
        "#2.Mutable\n",
        "#3.No duplicates are allowed\n",
        "#4. Indexing not works\n"
      ],
      "metadata": {
        "id": "02Zm2z_8ALLc"
      },
      "execution_count": null,
      "outputs": []
    },
    {
      "cell_type": "code",
      "source": [
        "s={4,7,9,5}\n",
        "print(s)\n",
        "print(type(s))"
      ],
      "metadata": {
        "colab": {
          "base_uri": "https://localhost:8080/"
        },
        "id": "vAPmy1_XAcd9",
        "outputId": "af075e1b-675b-4072-c343-5ad6886295c0"
      },
      "execution_count": null,
      "outputs": [
        {
          "output_type": "stream",
          "name": "stdout",
          "text": [
            "{9, 4, 5, 7}\n",
            "<class 'set'>\n"
          ]
        }
      ]
    },
    {
      "cell_type": "code",
      "source": [
        "s1={1,2,4,5,1,6}\n",
        "s2={7,8,9,1}\n",
        "s1|s2 #Union\n",
        "s1 & s2"
      ],
      "metadata": {
        "colab": {
          "base_uri": "https://localhost:8080/"
        },
        "id": "QDGcqWjjAj4q",
        "outputId": "ecab118f-4dec-45ad-def4-0d7d11639040"
      },
      "execution_count": null,
      "outputs": [
        {
          "output_type": "execute_result",
          "data": {
            "text/plain": [
              "{1}"
            ]
          },
          "metadata": {},
          "execution_count": 23
        }
      ]
    },
    {
      "cell_type": "code",
      "source": [
        "s1-s2"
      ],
      "metadata": {
        "colab": {
          "base_uri": "https://localhost:8080/"
        },
        "id": "kosV_hVxBExR",
        "outputId": "e9f125d6-2842-4933-c53c-01bfc9d752cf"
      },
      "execution_count": null,
      "outputs": [
        {
          "output_type": "execute_result",
          "data": {
            "text/plain": [
              "{2, 4, 5, 6}"
            ]
          },
          "metadata": {},
          "execution_count": 24
        }
      ]
    },
    {
      "cell_type": "code",
      "source": [
        "s2-s1"
      ],
      "metadata": {
        "colab": {
          "base_uri": "https://localhost:8080/"
        },
        "id": "LlG77uBKBZej",
        "outputId": "4f88d50f-24bc-4537-c0f4-d3e2a7eb90aa"
      },
      "execution_count": null,
      "outputs": [
        {
          "output_type": "execute_result",
          "data": {
            "text/plain": [
              "{7, 8, 9}"
            ]
          },
          "metadata": {},
          "execution_count": 25
        }
      ]
    },
    {
      "cell_type": "code",
      "source": [
        "#loop\n"
      ],
      "metadata": {
        "id": "5x_UP_FYBj-i"
      },
      "execution_count": null,
      "outputs": []
    },
    {
      "cell_type": "code",
      "source": [
        "#Dictionary\n",
        "\n",
        "d = {'Name': 'sangita','class': 'MCA', 'Age': '27'}\n",
        "print(type(d))\n",
        "print(d)"
      ],
      "metadata": {
        "colab": {
          "base_uri": "https://localhost:8080/"
        },
        "id": "YFH3kCOBBvrZ",
        "outputId": "975f0fc3-f9a0-43f4-98ca-7533794ee124"
      },
      "execution_count": null,
      "outputs": [
        {
          "output_type": "stream",
          "name": "stdout",
          "text": [
            "<class 'dict'>\n",
            "{'Name': 'sangita', 'class': 'MCA', 'Age': '27'}\n"
          ]
        }
      ]
    },
    {
      "cell_type": "code",
      "source": [
        "s4 = { 'Name': 'sangita',  'class': 'MCA', 'Age': '27', 'subject': {'Maths' : 39 , 'Eng': 50, 'Sci': 60} }\n"
      ],
      "metadata": {
        "id": "hPsmBti5Dle6"
      },
      "execution_count": null,
      "outputs": []
    },
    {
      "cell_type": "code",
      "source": [
        "print(s4)"
      ],
      "metadata": {
        "id": "9t0YQ243EMgK"
      },
      "execution_count": null,
      "outputs": []
    },
    {
      "cell_type": "code",
      "source": [
        "a ={i: i**2 for i in range (1,11)}\n",
        "print(a)"
      ],
      "metadata": {
        "colab": {
          "base_uri": "https://localhost:8080/"
        },
        "id": "z9dM0M8uFbdh",
        "outputId": "cebc03cf-8b11-4746-8d13-67cd5943e23e"
      },
      "execution_count": null,
      "outputs": [
        {
          "output_type": "stream",
          "name": "stdout",
          "text": [
            "{1: 1, 2: 4, 3: 9, 4: 16, 5: 25, 6: 36, 7: 49, 8: 64, 9: 81, 10: 100}\n"
          ]
        }
      ]
    },
    {
      "cell_type": "code",
      "source": [
        "print(type(a))"
      ],
      "metadata": {
        "colab": {
          "base_uri": "https://localhost:8080/"
        },
        "id": "o90RRpJmGkhi",
        "outputId": "3fe70657-7aa7-4c8f-e7f6-c16959e0076a"
      },
      "execution_count": null,
      "outputs": [
        {
          "output_type": "stream",
          "name": "stdout",
          "text": [
            "<class 'dict'>\n"
          ]
        }
      ]
    },
    {
      "cell_type": "code",
      "source": [],
      "metadata": {
        "id": "GtKzWMF6GyE2"
      },
      "execution_count": null,
      "outputs": []
    }
  ]
}