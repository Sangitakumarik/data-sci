{
  "nbformat": 4,
  "nbformat_minor": 0,
  "metadata": {
    "colab": {
      "provenance": [],
      "authorship_tag": "ABX9TyPfcIYGPAl5x6AdowZaAKqw",
      "include_colab_link": true
    },
    "kernelspec": {
      "name": "python3",
      "display_name": "Python 3"
    },
    "language_info": {
      "name": "python"
    }
  },
  "cells": [
    {
      "cell_type": "markdown",
      "metadata": {
        "id": "view-in-github",
        "colab_type": "text"
      },
      "source": [
        "<a href=\"https://colab.research.google.com/github/Sangitakumarik/data-sci/blob/main/Python_Day3_DS.ipynb\" target=\"_parent\"><img src=\"https://colab.research.google.com/assets/colab-badge.svg\" alt=\"Open In Colab\"/></a>"
      ]
    },
    {
      "cell_type": "markdown",
      "source": [
        "# LOOP IN PYTHON\n",
        " * while\n",
        " * For loop"
      ],
      "metadata": {
        "id": "o9fTNE8MCkl_"
      }
    },
    {
      "cell_type": "code",
      "source": [
        "for i in range (1,10):\n",
        "  print(i)"
      ],
      "metadata": {
        "colab": {
          "base_uri": "https://localhost:8080/"
        },
        "id": "a4N_y9rBDbhm",
        "outputId": "736ab0e1-bd2c-450c-eab5-a1aa55331528"
      },
      "execution_count": null,
      "outputs": [
        {
          "output_type": "stream",
          "name": "stdout",
          "text": [
            "1\n",
            "2\n",
            "3\n",
            "4\n",
            "5\n",
            "6\n",
            "7\n",
            "8\n",
            "9\n"
          ]
        }
      ]
    },
    {
      "cell_type": "code",
      "source": [
        "for i in range(1,10):\n",
        "  if i == 5:\n",
        "    break\n",
        "  print(i) "
      ],
      "metadata": {
        "colab": {
          "base_uri": "https://localhost:8080/"
        },
        "id": "cFphw8j9Cx7f",
        "outputId": "85431ce0-dcd2-4bfd-b731-a0a1cde23477"
      },
      "execution_count": null,
      "outputs": [
        {
          "output_type": "stream",
          "name": "stdout",
          "text": [
            "1\n",
            "2\n",
            "3\n",
            "4\n"
          ]
        }
      ]
    },
    {
      "cell_type": "code",
      "source": [
        "for i in range(1,10):\n",
        "  if i == 5:\n",
        "    continue\n",
        "  print(i) "
      ],
      "metadata": {
        "colab": {
          "base_uri": "https://localhost:8080/"
        },
        "id": "ZnkMMZ48C-JF",
        "outputId": "03213a33-9dbb-456d-82ef-580fc94a27e7"
      },
      "execution_count": null,
      "outputs": [
        {
          "output_type": "stream",
          "name": "stdout",
          "text": [
            "1\n",
            "2\n",
            "3\n",
            "4\n",
            "6\n",
            "7\n",
            "8\n",
            "9\n"
          ]
        }
      ]
    },
    {
      "cell_type": "code",
      "source": [
        "for i in range(1,10):\n",
        "  if i == 5:\n",
        "    pass\n",
        "  print(i) "
      ],
      "metadata": {
        "colab": {
          "base_uri": "https://localhost:8080/"
        },
        "id": "ujAFnSqqDMX_",
        "outputId": "c1469508-f85e-4499-dec0-416e54e4cff7"
      },
      "execution_count": null,
      "outputs": [
        {
          "output_type": "stream",
          "name": "stdout",
          "text": [
            "1\n",
            "2\n",
            "3\n",
            "4\n",
            "5\n",
            "6\n",
            "7\n",
            "8\n",
            "9\n"
          ]
        }
      ]
    },
    {
      "cell_type": "code",
      "source": [
        "#Function()\n",
        "# * User define()\n",
        "# * Built-in ()"
      ],
      "metadata": {
        "id": "CQifcmfRDTPf"
      },
      "execution_count": null,
      "outputs": []
    },
    {
      "cell_type": "code",
      "source": [
        "def is_even(i):\n",
        "  x = i%2==0\n",
        "  return x\n",
        "is_even(2)"
      ],
      "metadata": {
        "colab": {
          "base_uri": "https://localhost:8080/"
        },
        "id": "itYIl-ViDXm6",
        "outputId": "38ac38bd-7342-4506-9165-0f3aefdb6f87"
      },
      "execution_count": null,
      "outputs": [
        {
          "output_type": "execute_result",
          "data": {
            "text/plain": [
              "True"
            ]
          },
          "metadata": {},
          "execution_count": 13
        }
      ]
    },
    {
      "cell_type": "code",
      "source": [
        "def is_even(num):\n",
        "  if num %2 == 0:\n",
        "    return 'even'\n",
        "  else:\n",
        "    return 'odd'\n",
        "is_even(10)\n",
        "\n"
      ],
      "metadata": {
        "colab": {
          "base_uri": "https://localhost:8080/",
          "height": 35
        },
        "id": "uRoUbj7KFA1g",
        "outputId": "0178c810-03f0-4f0a-b0ab-5f62f80f585d"
      },
      "execution_count": null,
      "outputs": [
        {
          "output_type": "execute_result",
          "data": {
            "text/plain": [
              "'even'"
            ],
            "application/vnd.google.colaboratory.intrinsic+json": {
              "type": "string"
            }
          },
          "metadata": {},
          "execution_count": 11
        }
      ]
    },
    {
      "cell_type": "code",
      "source": [
        "#Types of argument\n",
        "\n"
      ],
      "metadata": {
        "id": "lBLw3DqHFo57"
      },
      "execution_count": null,
      "outputs": []
    },
    {
      "cell_type": "code",
      "source": [
        "#1. Default Argument\n",
        "def power(a=3,b=2):\n",
        "  return a**b\n",
        "power()"
      ],
      "metadata": {
        "colab": {
          "base_uri": "https://localhost:8080/"
        },
        "id": "oCuGfZoWGQz-",
        "outputId": "2e94fac8-5e17-42a3-9b52-6ea2203618ca"
      },
      "execution_count": null,
      "outputs": [
        {
          "output_type": "execute_result",
          "data": {
            "text/plain": [
              "9"
            ]
          },
          "metadata": {},
          "execution_count": 21
        }
      ]
    },
    {
      "cell_type": "code",
      "source": [
        "#2.Positional argument\n",
        "def power(a=1,b=1):\n",
        "  return a**b\n",
        "power(2,3)\n"
      ],
      "metadata": {
        "colab": {
          "base_uri": "https://localhost:8080/"
        },
        "id": "AmhHLCu7GaCT",
        "outputId": "5916c355-1e06-4e7d-c8f2-852584bee6e0"
      },
      "execution_count": null,
      "outputs": [
        {
          "output_type": "execute_result",
          "data": {
            "text/plain": [
              "8"
            ]
          },
          "metadata": {},
          "execution_count": 22
        }
      ]
    },
    {
      "cell_type": "code",
      "source": [
        "#3.Key word argument\n",
        "def power(a,b):\n",
        "  return a**b\n",
        "power(a=2,b=3) #keyword"
      ],
      "metadata": {
        "colab": {
          "base_uri": "https://localhost:8080/"
        },
        "id": "osJ4MqPhHIQd",
        "outputId": "3256d79e-ecf2-4375-fcb0-8de506b2d94f"
      },
      "execution_count": null,
      "outputs": [
        {
          "output_type": "execute_result",
          "data": {
            "text/plain": [
              "8"
            ]
          },
          "metadata": {},
          "execution_count": 23
        }
      ]
    },
    {
      "cell_type": "code",
      "source": [
        "#Special python keyword\n",
        "\n",
        "#args and kwrgs\n",
        "\n",
        "def multi(*args):\n",
        " prod = 1\n",
        " for i in args:\n",
        "      prod = prod * i\n",
        " return prod\n",
        "\n",
        "multi(1,2,3,4,6)"
      ],
      "metadata": {
        "colab": {
          "base_uri": "https://localhost:8080/"
        },
        "id": "Cy40e1u8Hwnx",
        "outputId": "a532c37b-f424-404c-a5dd-821aaf729f5b"
      },
      "execution_count": null,
      "outputs": [
        {
          "output_type": "execute_result",
          "data": {
            "text/plain": [
              "144"
            ]
          },
          "metadata": {},
          "execution_count": 51
        }
      ]
    },
    {
      "cell_type": "code",
      "source": [
        "def nation (**kwargs):\n",
        "  for (key,value) in kwargs.items():\n",
        "    print(key,'-', value)\n",
        "nation(Asia = 'India', Europe= 'london')"
      ],
      "metadata": {
        "colab": {
          "base_uri": "https://localhost:8080/"
        },
        "id": "3fVA7gb1KLJl",
        "outputId": "04e05a99-eb09-4d91-dcd2-84b4bac68f1d"
      },
      "execution_count": null,
      "outputs": [
        {
          "output_type": "stream",
          "name": "stdout",
          "text": [
            "Asia - India\n",
            "Europe - london\n"
          ]
        }
      ]
    },
    {
      "cell_type": "code",
      "source": [
        "##lambda function\n",
        "\n",
        "#1.small function\n",
        "#2.one line code\n",
        "#3.no use in reusable\n",
        "\n",
        "a = lambda x:x**2\n",
        "a(5)"
      ],
      "metadata": {
        "colab": {
          "base_uri": "https://localhost:8080/"
        },
        "id": "V1KqFxBMLVl2",
        "outputId": "1a8bf3db-e302-41f6-d002-028cd169f0ec"
      },
      "execution_count": null,
      "outputs": [
        {
          "output_type": "execute_result",
          "data": {
            "text/plain": [
              "25"
            ]
          },
          "metadata": {},
          "execution_count": 35
        }
      ]
    },
    {
      "cell_type": "code",
      "source": [
        "# Diffe between lambda () and normal function.\n",
        "\n",
        "#1. No need of defination\n",
        "#2. no return value\n",
        "#3.written in one line\n",
        "#4.Not reusable"
      ],
      "metadata": {
        "id": "uaCg6peZLwph"
      },
      "execution_count": null,
      "outputs": []
    },
    {
      "cell_type": "code",
      "source": [
        "#NESTED LOOP\n",
        "\n",
        "for i in range(1,10):\n",
        "  for j in range(i,10):\n",
        "    print(j,end= ' ')\n",
        "  print(\" \")"
      ],
      "metadata": {
        "colab": {
          "base_uri": "https://localhost:8080/"
        },
        "id": "ea8ul9tNMpq0",
        "outputId": "afd5dbb2-1715-4cb9-d3f1-c91ce31fbcc4"
      },
      "execution_count": null,
      "outputs": [
        {
          "output_type": "stream",
          "name": "stdout",
          "text": [
            "1 2 3 4 5 6 7 8 9  \n",
            "2 3 4 5 6 7 8 9  \n",
            "3 4 5 6 7 8 9  \n",
            "4 5 6 7 8 9  \n",
            "5 6 7 8 9  \n",
            "6 7 8 9  \n",
            "7 8 9  \n",
            "8 9  \n",
            "9  \n"
          ]
        }
      ]
    },
    {
      "cell_type": "code",
      "source": [
        "#OOPS Concept\n",
        "\n",
        "a = 10 \n",
        "print(type(a))\n"
      ],
      "metadata": {
        "colab": {
          "base_uri": "https://localhost:8080/"
        },
        "id": "Jr1Ij83iNea7",
        "outputId": "e02e2213-b8dc-4d11-83be-d8a97cdcf2be"
      },
      "execution_count": null,
      "outputs": [
        {
          "output_type": "stream",
          "name": "stdout",
          "text": [
            "<class 'int'>\n"
          ]
        }
      ]
    },
    {
      "cell_type": "code",
      "source": [
        "#class\n",
        " #A class is a blueprint of object\n",
        " # and object is the attributes of class which has own behaviour and properties.\n",
        " # object prperties : Id, Atrributes, Behaviour.\n",
        " # In python everthing is object\n",
        "\n",
        " #OOPS CONCEPT\n",
        "\n",
        " #1.Classes and object\n",
        " #2.Inheritence\n",
        " #3.Polymorphism\n",
        " #4.Abstraction\n",
        " #5.Encapsulation"
      ],
      "metadata": {
        "id": "mEDKmZn5PZe3"
      },
      "execution_count": null,
      "outputs": []
    },
    {
      "cell_type": "code",
      "source": [],
      "metadata": {
        "id": "RsWRqPyJRPpx"
      },
      "execution_count": null,
      "outputs": []
    }
  ]
}